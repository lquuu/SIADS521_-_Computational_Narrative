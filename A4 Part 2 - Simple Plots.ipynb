{
 "cells": [
  {
   "cell_type": "markdown",
   "id": "4470ba1d-c688-48b2-90b2-621af97c4157",
   "metadata": {},
   "source": [
    "# Part 2: Simple Line Graphs, Scatter Plots, & Violin Plots"
   ]
  },
  {
   "cell_type": "markdown",
   "id": "844cc1af-9e46-4b9a-811c-5a9b5aca9b15",
   "metadata": {},
   "source": [
    "## Rule et al.'s Rules (Discussion in Part 3)\n",
    "1. **Rule 1**: Tell a story for an audience\n",
    "2. **Rule 2**: Document the process, not just the results\n",
    "3. **Rule 3**: Use cell divisions to make steps clear\n",
    "4. **Rule 8**: Share and explain your data\n",
    "5. **Rule 9**: Design your notebooks to be read, run, and explored"
   ]
  },
  {
   "cell_type": "markdown",
   "id": "e1ec629e-d9a8-4f9c-b3fd-65e63b1e0b17",
   "metadata": {},
   "source": [
    "### Import Libraries & Load Data"
   ]
  },
  {
   "cell_type": "code",
   "execution_count": null,
   "id": "09919a36-b432-4f0b-8c4c-41048d143716",
   "metadata": {
    "scrolled": true
   },
   "outputs": [],
   "source": [
    "import os\n",
    "import numpy as np\n",
    "import pandas as pd\n",
    "import plotly.express as px\n",
    "import plotly.graph_objects as go\n",
    "import pytz\n",
    "import matplotlib as mpl\n",
    "import matplotlib.pyplot as plt\n",
    "import seaborn as sns\n",
    "from statsmodels.nonparametric.smoothers_lowess import lowess   # I will be explaining this when we get to the scatterplot\n",
    "\n",
    "file_path = os.path.realpath(\"/home/jovyan/work/resources/course_assignments/assets/strava.csv\")\n",
    "df = pd.read_csv(file_path)\n",
    "\n",
    "df['timestamp'] = pd.to_datetime(df['timestamp'])\n",
    "df['timestamp'] = pd.to_datetime(df['timestamp'], utc=True)\n",
    "df['timestamp'] = df['timestamp'].dt.tz_convert('America/Detroit')"
   ]
  },
  {
   "cell_type": "markdown",
   "id": "c795c480-0d75-4ca0-873e-4af39c2af2c7",
   "metadata": {},
   "source": [
    "### Smooth Line Graph"
   ]
  },
  {
   "cell_type": "markdown",
   "id": "e4e89449-93f3-467f-9ad2-f6cf0f128dbb",
   "metadata": {},
   "source": [
    "As an owner of a Fitbit and Apple Watch, one of the first visualizations I thought of when I saw the data was tracking heart rate.\n",
    "\n",
    "Specifically, it would be interesting to see how Professor Brook's heart rate changed throughout his workouts. In this sense, it would make sense if:\n",
    "- The x-axis represents the length of the workout, probably in minutes\n",
    "    - This means we will need to somehow calculate the \"delta\"/length of the workout\n",
    "    - We will also need to calculate how each minute passes\n",
    "- The y-axis represents the professor's heart rate\n"
   ]
  },
  {
   "cell_type": "markdown",
   "id": "4c5327b0-038f-439d-929a-58304068012d",
   "metadata": {},
   "source": [
    "### The Problem of the NaN Values"
   ]
  },
  {
   "cell_type": "markdown",
   "id": "c1aa3070-1b57-4f19-9852-85eea3fb30b5",
   "metadata": {},
   "source": [
    "We saw from \"Preparing the Data\" that there were 64 recorded workouts. This might crowd our line graph, but let's play around with it and see what we can do to make it as visually appealing but also informative as possible."
   ]
  },
  {
   "cell_type": "code",
   "execution_count": null,
   "id": "ccf50796-64d7-463f-8a43-7da012792736",
   "metadata": {},
   "outputs": [],
   "source": [
    "print(df[df['heart_rate'].isna()].describe())"
   ]
  },
  {
   "cell_type": "code",
   "execution_count": null,
   "id": "9bce6f98-4638-4cf8-a0a8-0d1bc29e5299",
   "metadata": {},
   "outputs": [],
   "source": [
    "# We know there's approximately 5% missing values, but let's dive in further\n",
    "missing_hr = df['heart_rate'].isna().sum()\n",
    "total_rows = len(df)\n",
    "print(f\"Missing `heart_rate` values: {missing_hr} ({missing_hr / total_rows * 100:.2f}%)\")\n",
    "\n",
    "# Are specific workouts missing heart rate data? Or is the missing heart rate data randomly distributed across all workouts?\n",
    "# Let's determine this by grouping our data by `datafile` (i.e., workout)\n",
    "missing_per_workout = df.groupby('datafile')['heart_rate'].apply(lambda x: x.isna().mean() * 100)\n",
    "print(missing_per_workout.sort_values(ascending=False))  # Show % missing per session\n",
    "\n",
    "plt.figure(figsize=(12, 5))\n",
    "sns.histplot(missing_per_workout, bins=20)\n",
    "plt.xlabel(\"Percentage of Missing Heart Rate Data per Workout\")\n",
    "plt.ylabel(\"Number of Workouts\")\n",
    "plt.title(\"Distribution of Missing Heart Rate Data Across Workouts\")\n",
    "plt.show()"
   ]
  },
  {
   "cell_type": "markdown",
   "id": "39ff9204-375a-4d48-850b-552d6ba206d6",
   "metadata": {},
   "source": [
    "This is fantastic! This bimodal graph tells us is that:\n",
    "- Almost 60 workouts have no missing heart rate data\n",
    "- Approximately 5 workouts have 100% missing heart rate data\n",
    "    - It's possible that the heart rate sensor in the fitness tracker malfunctioned or \"dropped transmission\" during those 5 workouts, which led to the absence of data.\n",
    "\n",
    "In this case, I would drop the workouts that have missing heart rate values. If the missing heart rate values were randomly distributed across the data, we might have had to impute our data with certain values (e.g., median, mean, interpolate) to complete it. However, because it appears that only specific workouts didn't have heart rate values, we can safely [and in good conscience] drop those workouts."
   ]
  },
  {
   "cell_type": "code",
   "execution_count": null,
   "id": "417474cb-1c72-408f-99c2-73b6c65c662b",
   "metadata": {},
   "outputs": [],
   "source": [
    "# Preparing Our Data for the Line Graph\n",
    "df = df.dropna(subset=['heart_rate'])\n",
    "\n",
    "# Group our Data by Workout & Calculate Time per Workout (End - Start)\n",
    "df['time_delta'] = df.groupby('datafile')['timestamp'].transform(lambda x: x.max() - x.min())\n",
    "\n",
    "# Convert All Time to Seconds (I noticed that we can't convert to minutes, because the first few lines in strata.csv shows that his heart rate surges in the first few seconds)\n",
    "df['workout_duration_seconds'] = df['time_delta'].dt.total_seconds()\n",
    "\n",
    "# We need to correspond the 'standard time' of the workout to the 'seconds into the workout'\n",
    "df['seconds_in_workout'] = (df['timestamp'] - df.groupby('datafile')['timestamp'].transform('min')).dt.total_seconds()\n",
    "\n",
    "df[['datafile', 'seconds_in_workout', 'heart_rate']].tail()\n"
   ]
  },
  {
   "cell_type": "markdown",
   "id": "013fdb74-78c2-4b6b-b20e-85f9d77fa966",
   "metadata": {},
   "source": [
    "Note that I had to change my `x-axis` units to seconds as opposed to minutes. The reason being that, with a quick glance of the CSV file, we can see that the professor's heart rate increased within the first few seconds of his first workout."
   ]
  },
  {
   "cell_type": "code",
   "execution_count": null,
   "id": "97170b88-0389-4696-82a0-a81988d86eb3",
   "metadata": {},
   "outputs": [],
   "source": [
    "plt.figure(figsize=(20, 6))\n",
    "sns.set(style=\"whitegrid\")\n",
    "\n",
    "sns.lineplot(data=df,\n",
    "             x='seconds_in_workout',\n",
    "             y='heart_rate', hue='datafile', \n",
    "             alpha=0.5,       # slightly transparent to improve readability due to number of lines\n",
    "             palette='colorblind',\n",
    "             legend=None)\n",
    "\n",
    "plt.title(f'Heart Rate Across {len(df[\"datafile\"].unique())} Workout Sessions', fontsize=16)\n",
    "plt.xlabel('Seconds into a Workout', fontsize=12)\n",
    "plt.ylabel('Heart Rate (bpm)', fontsize=12)\n",
    "\n",
    "plt.show()"
   ]
  },
  {
   "cell_type": "markdown",
   "id": "8fe43f0d-e22b-4715-bf8f-f0b04527093c",
   "metadata": {},
   "source": [
    "Let's see if we can use `Plotly` to create a more interactive chart. I'd like to be able to zoom in to the left side of the chart since the data is more densely packed in that area."
   ]
  },
  {
   "cell_type": "code",
   "execution_count": null,
   "id": "adec79af-c5ce-4e25-94c4-562c631c7011",
   "metadata": {},
   "outputs": [],
   "source": [
    "fig = px.line(df, \n",
    "              x='seconds_in_workout', \n",
    "              y='heart_rate', \n",
    "              color='datafile', \n",
    "              labels={'seconds_in_workout': 'Seconds into a Workout',\n",
    "                      'heart_rate': 'Heart Rate (bpm)'},\n",
    "              title=f'Heart Rate Across {len(df[\"datafile\"].unique())} Workout Sessions')\n",
    "\n",
    "fig.show()"
   ]
  },
  {
   "cell_type": "markdown",
   "id": "4ea84f00-6882-4fdf-a7ae-e71259deeaf8",
   "metadata": {},
   "source": [
    "Because of Plotly's native interactivity, we can easily zoom into the beginning of the line graph and see the details. The hover feature also gives us exact values.\n",
    "\n",
    "However, I still find that the \"seconds\" is a bit hard to use because we're not exactly attuned to use seconds in everyday life. Minutes, on the other hand, feel much more intuitive; and I wonder if a chart made with minute would be easier to understand.\n",
    "\n",
    "To do this, we would have to convert a lot of data into decimal form (e.g., 00:01:15 is now 1.25 minutes), which is not ideal, but it's something worth exploring and evaluating."
   ]
  },
  {
   "cell_type": "code",
   "execution_count": null,
   "id": "520e3bd4-7ba8-4257-894c-ab7e13247b0f",
   "metadata": {},
   "outputs": [],
   "source": [
    "# Calculate the workout duration (in minutes instead of seconds this time)\n",
    "# To do this, we convert ALL time to seconds, then divide all time by 60 to get the number of minutes\n",
    "df['workout_duration_minutes'] = df['time_delta'].dt.total_seconds() / 60\n",
    "\n",
    "# Create a new column for the number of minutes INTO a workout\n",
    "# To do this, we calculate the number of seconds from the initial timestamp, then divide by 60\n",
    "df['minute_into_workout'] = (df['timestamp'] - df.groupby('datafile')['timestamp'].transform('min')).dt.total_seconds() / 60\n",
    "\n",
    "# Check the updated structure\n",
    "df[['datafile', 'minute_into_workout', 'heart_rate']].head()"
   ]
  },
  {
   "cell_type": "code",
   "execution_count": null,
   "id": "23cdc58e-fefd-4b49-b4d5-124114314b21",
   "metadata": {},
   "outputs": [],
   "source": [
    "fig = px.line(df, \n",
    "              x='minute_into_workout', \n",
    "              y='heart_rate', \n",
    "              color='datafile', \n",
    "              labels={'minute_into_workout': 'Minutes into a Workout',\n",
    "                      'heart_rate': 'Heart Rate (bpm)'},\n",
    "              title=f'Heart Rate Across {len(df[\"datafile\"].unique())} Workout Sessions')\n",
    "\n",
    "fig.show()"
   ]
  },
  {
   "cell_type": "markdown",
   "id": "4e283590-efcb-4e57-8a1d-eaa421c9b0e4",
   "metadata": {},
   "source": [
    "We can double-click on any of the data files in the legend to isolate a specific workout, which is a great feature that `Plotly` offers us.\n",
    "\n",
    "The next thing I'd like to tackle is the legend. It's horrendous and not human-friendly. Instead of the datafile name, let's rename the workouts to something more meaningful and easily understood by humans, like the date of a workout."
   ]
  },
  {
   "cell_type": "code",
   "execution_count": null,
   "id": "8d968868-8c67-4553-a66f-8f1643c7e431",
   "metadata": {},
   "outputs": [],
   "source": [
    "# We'll start by creating a new column, `workout_date`, from the existing column, `timestamp`.\n",
    "# Since each workout has multiple timestamps that span the entire workout, we'll use the \"minimum\" value to represent the start date.\n",
    "df['workout_date'] = df.groupby('datafile')['timestamp'].transform('min').dt.date\n",
    "df['workout_date'] = df['workout_date'].astype(str)\n",
    "\n",
    "fig = px.line(df, \n",
    "              x='minute_into_workout', \n",
    "              y='heart_rate', \n",
    "              color='workout_date', \n",
    "              labels={'minute_into_workout': 'Minutes into a Workout',\n",
    "                      'heart_rate': 'Heart Rate (bpm)'},\n",
    "              title=f'Heart Rate Across {len(df[\"datafile\"].unique())} Workout Sessions')\n",
    "\n",
    "fig.update_layout(legend_title_text='Workout Date')\n",
    "\n",
    "fig.show()"
   ]
  },
  {
   "cell_type": "markdown",
   "id": "f684c9df-0e69-4783-9afa-49854aadde66",
   "metadata": {},
   "source": [
    "## This is BAD!\n",
    "\n",
    "Something happened here and I clicked around to see what had happened. It appears that, amid a few other dates, July 31, 2019 showed 4 graphs!\n",
    "\n",
    "My *incorrect* original premise was that Professor Brooks only worked out once a day. However, this was a misconception. If I were to print the number of unique datafiles and workout dates, I would see that there are fewer workout_dates than datafiles. Thus, my conclusion is that I should be more specific in naming my legend. Instead of naming each workout by only its date, I should also include its start time."
   ]
  },
  {
   "cell_type": "code",
   "execution_count": null,
   "id": "9ef3a024-0cdf-4c9c-9d8f-5d75a71db92e",
   "metadata": {},
   "outputs": [],
   "source": [
    "print(len(df[\"datafile\"].unique()))\n",
    "print(len(df[\"workout_date\"].unique()))"
   ]
  },
  {
   "cell_type": "code",
   "execution_count": null,
   "id": "6c81b4ce-12e2-4572-ac2c-8ae4d4aafb46",
   "metadata": {},
   "outputs": [],
   "source": [
    "# Same grouping process as before\n",
    "df['workout_start_time'] = df.groupby('datafile')['timestamp'].transform('min')\n",
    "\n",
    "# This time, let's include the hour and minute of the starting time of the workout.\n",
    "# This should improve our graph\n",
    "df['workout_label'] = df['workout_start_time'].dt.strftime('%Y-%m-%d %H:%M')\n",
    "\n",
    "# Continue as before\n",
    "fig = px.line(df, \n",
    "              x='minute_into_workout', \n",
    "              y='heart_rate', \n",
    "              color='workout_label',  # Now the legend includes date and start time\n",
    "              labels={'minute_into_workout': 'Minutes into a Workout',\n",
    "                      'heart_rate': 'Heart Rate (bpm)',\n",
    "                      'workout_label': 'Workout Start Time'},\n",
    "              title=f'Heart Rate Across {len(df[\"workout_label\"].unique())} Workout Sessions')  # Confirmed that we have 59 uniquely named workouts for our legend!\n",
    "\n",
    "fig.show()\n"
   ]
  },
  {
   "cell_type": "markdown",
   "id": "e059aed1-2ff6-467f-985f-1258d6ff23c1",
   "metadata": {},
   "source": [
    "## But What Now?\n",
    "\n",
    "This is good information, but we can't really draw any useful conclusions or actionable findings from this *yet*. However, we might be able to use this *in conjuction* with other charts to inform our findings. Let's see if we can supplement this data-dense line chart with a few other graphs.\n",
    "\n",
    "Because Professor Brooks was working out July through October, we can see if the professor's health improved **over time**.\n",
    "\n",
    "I did a some research and found that:\n",
    "- \"Individuals who are more physically fit tend to have lower resting heart rates and a more controlled increase in heart rate during exercise.\" [https://www.heartscope.com.au/why-does-the-heart-rate-increase-during-exercise/#:~:text=or%20light%20jogging.-,Fitness%20Level,cardiovascular%20systems%20are%20more%20efficient.]\n",
    "- \" For a 40-year-old man, a target heart rate zone for cardio exercise is generally between 90 and 153 beats per minute (bpm), with an estimated maximum heart rate (MHR) of 180 bpm.\" [https://www.heart.org/en/healthy-living/fitness/fitness-basics/target-heart-rates]\n",
    "    - Please note that I have decided to utilize the assumption from Deepti Wilson's comment shared on Slack on March 27th at 4:17 PM. The comment stated that it was acceptable to assume Professor Brooks was an **average 40-year-old male**. I confirmed this assumption again Erik Lang during his office hours on Saturday, March 29th.\n",
    "- There are 3 exercise zones we can consider: [https://www.webmd.com/fitness-exercise/what-to-know-heart-rate-fat-burning-cardio]\n",
    "    - Lower-Intensity Zone: 50-60% MHR (approx. 90-106 bpm)\n",
    "    - Fat-Burning Zone:     60-70% MHR (approx. 106-126 bpm)\n",
    "    - Aerobic/Cardio Zone:  70% +  MHR (approx. 126+)\n",
    "- \"A lower resting heart rate generally indicates better cardiovascular health and fitness, while a higher resting heart rate can be an indicator of increased risk for cardiovascular disease and mortality.\" [https://www.health.harvard.edu/blog/your-resting-heart-rate-can-reflect-your-current-and-future-health-201606172482#:~:text=%22In%20certain%20cases%2C%20a%20lower%20resting%20heart,cardiac%20events%20like%20heart%20attacks%2C%22%20says%20Dr.&text=In%20fact%2C%20research%20has%20found%20that%20a,for%20cardiovascular%20disease%20and%20even%20early%20death.]\n",
    "\n",
    "With this in mind, I'd like to see if I can \"clean up\" the line graph so it's not as **visually overwhelming**. The purpose of the original line graph was to see whether there was a general shape that we can identify in Professor Brook's workouts. Ideally, I'd like to see how the professor warms up, gets going, and cools down for his workouts.\n",
    "\n",
    "One way that I can do this is to group the workouts by `minute_into_workout`, and then calculate the average `heart_rate` for the given minute."
   ]
  },
  {
   "cell_type": "code",
   "execution_count": null,
   "id": "5dd28c77-0b79-46bd-a35c-3ceb6200230b",
   "metadata": {},
   "outputs": [],
   "source": [
    "# Group workouts by minute, then average the HR for each minute\n",
    "avg_hr_by_minute = df.groupby('minute_into_workout')['heart_rate'].mean().reset_index()\n",
    "fig = px.line(avg_hr_by_minute, x='minute_into_workout', y='heart_rate',\n",
    "              labels={'minute_into_workout': 'Minutes into Workout', 'heart_rate': 'Average HR (bpm)'},\n",
    "              title='Average Heart Rate Profile Across All Workouts')\n",
    "fig.show()"
   ]
  },
  {
   "cell_type": "markdown",
   "id": "3cd7115e-9df2-453c-bc28-3563e1565339",
   "metadata": {},
   "source": [
    "WOW! I really love this graph! A lot more than I expected :) :)\n",
    "\n",
    "So let's discuss this graph. Due to the vast amount of data (i.e., decimals of minutes), the graph appears to go straight up and down - this is incorrect. The graph's \"static\" look reflects the **shape and fluctuation** of Professor Brooks' average HR values over time.\n",
    "- Skinny (Smoother, Less \"Jumpy\"): A flatter or more gradual curve suggests his average HR is **more consistent** and **fluctuates less** across workouts at those minutes. There are fewer wild \"swings\" in the underlying data.\n",
    "- Wide (Jagged, “Static”): A taller, more erratic line (sort of “static” on an old TV) indicates bigger ups and downs in the averages, which indicates **greater variability/fluctuations** in the professor's HR across workouts at those points.\n",
    "\n",
    "If I were to \"section\" the graph into meaningful chunks, I would do so in the following way:\n",
    "- **0–15 Minutes: Consistent Warm-Ups (Low Variance, Consistent Warmup)**\n",
    "    - What It Means: The average HR starts low (approximately 85-140 bpm) and rises steadily as workouts begin. The “skinniness” suggests most workouts follow a similar warmup pattern - HR increases predictably across the 59 sessions.\n",
    "    - Professor Brooks: Your warmups are rock-solid consistent! Your HR typically climbs smoothly during the first 15 minutes of your workouts.\n",
    "- **15–35 Minutes: Peak Effort Zone (Moderate Variance, Aerobic/Cardio Zone with Max HR)**\n",
    "    - The line “widens” as HR rises to the maximum and/or plateaus (around the 140–150 bpm range), but with greater fluctuation than the preceeding 15 minutes. The high-effort phase—HR hits its max as workouts reach full intensity, with some sessions pushing to 150 bpm, while others hovering lower. This could mean workouts start diverging; some workouts ramp up faster, others plateau, depending on intensity or type.\n",
    "    - Professor Brooks: Here’s your peak zone, 15–35 minutes, where your HR tops out around 140–150 bpm (putting you in the aerobic/cardio zone), and the line \"widens\" a bit. You’re cranking it up, but with some diversity in how hard each session hits. Your workouts appear to start to split; some push harder, others ease off, showing variety in how you build effort.\n",
    "- **35–45 Minutes: Slow Decrease (High Variance, Slow Decrease)**\n",
    "    - A very slight decrease in HR begins as workouts start easing off, but with more variability as some drop faster than others.\n",
    "    - Professor Brooks: From 35–45 minutes, your HR slides from approximately 135 to 120 bpm, and a slow wind-down from aerobic/cardio to the fat-burning zone kicks in. This transition period showing greater variance, showing some workouts cool off quicker than others while you continue to push.\n",
    "- **45–65 Minutes: Plateau (High Variance)**\n",
    "    - A steady average hides huge swings: some workouts dip to 103 bpm, others spike to 150 bpm, creating that “tall static” look.\n",
    "    - Professor Brooks: As the data plateaus around 120 bpm, but the range is wild — 103 to 150 bpm! The tall static indicates the great variance in workout intensity at the 45-65-minute mark. This is a great low-intensity/fat-burning zone to plateau in.\n",
    "- **65–85 Minutes: Late-Game Surge (High Variance, Increase)**\n",
    "    - A surprising late surge! Workouts that make it to 65-85 minutes appear to ramp up again, with big variability (that “static” persists). The 75–85 stretch narrows slightly as HR trends upward more consistently.\n",
    "    - Professor Brooks: From 65–85 minutes, it’s a comeback! Your HR climbs from around 110 to 140 bpm. Could this be where you find your second wind? The variance continues as some long workouts surge later than others, though it narrows a bit toward the end. The \"narrowing\" may be due to fewer workouts making it to this point.\n",
    "- **85+ Minutes: Very Narrow (Extremely Low Variance, Very Rare Long Workouts)**\n",
    "    - Only a few workouts reach this far, and their HRs cluster tightly, with very little room for variation due to so few data points.\n",
    "    - Professor Brooks: Past 85 minutes, we see very little variance in your workouts as only your longest sessions reach this point.\n",
    "\n",
    "### Future Notes\n",
    "One thing I do notice that might benefit from further data analysis is how the professor cools down. The line graph above shows us some great data for his warm-ups; but it may also be just as important to understand how the professor cools down from his workouts, as cool downs gradually help us return our body to a resting state. This also prevents injury, and promotes recovery by gradually lowering heart rate, blood pressure, and body temperature, while also aiding in muscle recovery and relaxation [https://www.mayoclinic.org/healthy-lifestyle/fitness/in-depth/exercise/art-20045517].\n"
   ]
  },
  {
   "cell_type": "markdown",
   "id": "a84ca8e8-db7d-4cd5-8b39-e09a8cd5a50b",
   "metadata": {},
   "source": [
    "## Did Professor Brook's Heart Health or Exercise Routine Improve?\n",
    "### A Scatter Plot with a Linear Trend Line\n",
    "\n",
    "Now that we have a better idea of what the professor's workouts typically look like, we can investigate further to get a better idea of the *improvement* the professor may have experienced during these months. Thus, my first follow-up chart is to address whether Professor Brooks' heart health improved over time.\n",
    "\n",
    "To do this, we can see how the professor's **average heart rate** during workouts changes over time (across all 59 workouts with heart rate readings). This could indicate improvements in fitness (lower average HR over time) or changes in workout intensity).\n",
    "\n",
    "Although it makes sense to generate another line graph for a time-based graph, I don't believe this is the best way to approach our new graph. The reason being that we deduced earlier that Professor Brooks sometimes completes more than 1 workout in a day. This means that a standard line graph connecting points chronologically might create misleading jumps or trends (especially noticeable on days when the professor does a variety of low-intensity and strenuous workouts). Thus, the connection of the points could obscure the true progression over time and confuse the readers (especially with perfectly vertical lines in our graph).\n",
    "\n",
    "I sought to address this issue by, instead, generating a scatterplot with a trend line. A **linear Ordinary Least Squares (OLS) regression** is one of the most basic trend lines we can fit to our data. However, a quick search on `Plotly` produced another type of trend line called a **Locally WEighted Scatterplot Smoothing (LOWESS) trendline**. The LOWESS trend line fits a **smooth curve** to scatterplots, and allows us to capture non-linear trends. I thought that this would be a useful addition to our data, so I followed Plotly's page to add the LOWESS trend line [https://plotly.com/python/linear-fits/].\n"
   ]
  },
  {
   "cell_type": "code",
   "execution_count": null,
   "id": "756c149a-b061-40f7-bf98-fdd85e5aa16e",
   "metadata": {},
   "outputs": [],
   "source": [
    "# Calculate average HR per workout\n",
    "avg_hr_per_workout = df.groupby('datafile').agg({\n",
    "    'heart_rate': 'mean',\n",
    "    'timestamp': 'min'  # Like before, the minimum time [of a datafile] corresponds to the start time of a workout\n",
    "}).reset_index()\n",
    "\n",
    "# Sort by Timestamp for Chronological Order\n",
    "avg_hr_per_workout = avg_hr_per_workout.sort_values('timestamp')\n",
    "\n",
    "# Generate Scatterplot\n",
    "fig = px.scatter(avg_hr_per_workout, \n",
    "                 x='timestamp', \n",
    "                 y='heart_rate',\n",
    "                 trendline='ols',  # Let's add a trendline. (ols = least squares regression line)\n",
    "                                    # Reference: https://plotly.com/python/linear-fits/\n",
    "                 trendline_color_override='orange',   # Used the following link to determine color: https://i.sstatic.net/xRwWi.png\n",
    "                 labels={'timestamp': 'Workout Date', 'heart_rate': 'Average Heart Rate (bpm)'},\n",
    "                 title=f'Average Heart Rate per Workout Across {len(avg_hr_per_workout[\"datafile\"].unique())} Workouts with OLS Trendline')\n",
    "\n",
    "fig.show()"
   ]
  },
  {
   "cell_type": "markdown",
   "id": "a3233f34-fb8c-4be2-b751-67603317647f",
   "metadata": {},
   "source": [
    "### A Scatter Plot with a Non-Linear \"LOWESS\" Trend Line\n",
    "Let's repeat the process, but replace `ols` with `lowess` to see a non-linear trend line for the professor's data."
   ]
  },
  {
   "cell_type": "code",
   "execution_count": null,
   "id": "a771cd23-3e94-43b8-8bb0-da328725414c",
   "metadata": {},
   "outputs": [],
   "source": [
    "# Calculate average HR per workout\n",
    "avg_hr_per_workout = df.groupby('datafile').agg({\n",
    "    'heart_rate': 'mean',\n",
    "    'timestamp': 'min'  # Like before, the minimum time [of a datafile] corresponds to the start time of a workout\n",
    "}).reset_index()\n",
    "\n",
    "# Sort by Timestamp for Chronological Order\n",
    "avg_hr_per_workout = avg_hr_per_workout.sort_values('timestamp')\n",
    "\n",
    "# Generate Scatterplot\n",
    "fig = px.scatter(avg_hr_per_workout, \n",
    "                 x='timestamp', \n",
    "                 y='heart_rate',\n",
    "                 trendline='lowess',  # Let's try the LOWESS trendline here\n",
    "                                      # Reference: https://plotly.com/python/linear-fits/\n",
    "                 trendline_color_override='limegreen',   # Used the following link to determine color: https://i.sstatic.net/xRwWi.png\n",
    "                 labels={'timestamp': 'Workout Date', 'heart_rate': 'Average Heart Rate (bpm)'},\n",
    "                 title=f'Average Heart Rate per Workout Across {len(avg_hr_per_workout[\"datafile\"].unique())} Workouts with LOWESS Trendline')\n",
    "\n",
    "# I added a labeled shaded region for the discussion below\n",
    "fig.add_vrect(\n",
    "    x0=\"2019-07-26\", x1=\"2019-08-20\",\n",
    "    fillcolor=\"gray\", opacity=0.2,\n",
    "    layer=\"below\", line_width=0,\n",
    "    annotation_text=\"Mid-Summer Spike\", annotation_position=\"top left\"\n",
    ")\n",
    "\n",
    "fig.show()"
   ]
  },
  {
   "cell_type": "markdown",
   "id": "2e4185c8-bac5-44cd-aa10-706e183a67bb",
   "metadata": {},
   "source": [
    "### Takeaways from Scatterplots with Accompanying Trend Lines\n",
    "\n",
    "What a cool new trend line to experiment with! It's clear that the LOWESS line adapts to the data’s natural shape rather than forcing a straight line. The LOWESS line appears to make a \"backwards-Z\" sort of trend line, with a noticeable increase mid-summer (approximately July 26 through August 20, seen in the above shaded region). However, the OLS regression line makes it immediately clear that there was an **overall increase** in the professor's average heart rate from July through October.\n",
    "\n",
    "Professor Brooks, the rise in your average heart rate of your workouts shows that your workouts likely got **tougher** over time! The overall rise in average heart rate suggests you’ve been pushing harder overall [from July-October], possibly increasing intensity or duration as the months progressed. This increase could mean your building strength or endurance; but it may also hint at other confounding variables (e.g., less recovery or external factors (e.g., increase in summer heat (July-August is the hottest time of the year in Michigan) or increases in stress/cortisol -- but these would have had to continue throughout July-October)."
   ]
  },
  {
   "cell_type": "markdown",
   "id": "0f10719c-deb3-4e9c-9477-cab4c0cb8a3c",
   "metadata": {},
   "source": [
    "## Heart Rate Zone Distributions\n",
    "\n",
    "To summarize what we have analyzed so far, we've compiled average heart rate \"profiles\" of Professor Brook's workouts with respect to:\n",
    "1) Minutes into a Workout [*via line charts*], and\n",
    "2) Workout Date (July-Oct) [*via scatter plots with trend lines*]\n",
    "\n",
    "Perhaps the next logical step would be to better understand *how* Professor Brooks is exercising; specifically, how are the professor's workouts typically distributed in terms of lower-intensity, fat-burning, and aerobic/cardio zones? \n",
    "\n",
    "Given that Professor Brook's maximum heart rate (MHR) is approximately 180 bpm (for an average 40-year-old man; calculated by `MHR = 220 - age`), we can categorize his workouts into three exercise zones we took into consideration:\n",
    "| Zone | Percentage of MHR | Approximate HR |\n",
    "| -------- | -------- | -------- |\n",
    "| Lower-Intensity Zone | 50-60% MHR | 90-106 bpm | \n",
    "| Fat-Burning Zone | 60-70% MHR | 106-126 bpm | \n",
    "| Aerobic/Cardio Zone | 70% +  MHR | 126+ | \n"
   ]
  },
  {
   "cell_type": "code",
   "execution_count": null,
   "id": "6927934b-0f84-413d-96df-d748ae76eafb",
   "metadata": {},
   "outputs": [],
   "source": [
    "# Let's first write a function that defines & categorizes the professor's heart rate for us\n",
    "def hr_zone(hr):\n",
    "    if hr < 90: return 'Resting (<90 bpm)'  # Catch any sub-90 bpm data\n",
    "    elif hr <= 106: return 'Lower-Intensity (90-106 bpm)'\n",
    "    elif hr <= 126: return 'Fat-Burning (106-126 bpm)'\n",
    "    else: return 'Aerobic/Cardio (126+ bpm)'\n",
    "\n",
    "# Now we apply the HR Zone function to all HR data\n",
    "df['hr_zone'] = df['heart_rate'].apply(hr_zone)\n",
    "\n",
    "# Sort by datafile and timestamp to ensure chronological order\n",
    "df = df.sort_values(['datafile', 'timestamp'])\n",
    "\n",
    "# Calculate time differences in seconds within each workout\n",
    "df['time_diff'] = df.groupby('datafile')['timestamp'].diff().dt.total_seconds().fillna(0)\n",
    "\n",
    "# Shift time_diff up and assign it to the previous HR (since the difference applies to the interval ending at the current timestamp)\n",
    "df['duration_seconds'] = df['time_diff'].shift(-1).fillna(0)\n",
    "\n",
    "# Group by HR zone and add durations\n",
    "zone_durations = df.groupby('hr_zone')['duration_seconds'].sum().reset_index()\n",
    "zone_durations.columns = ['Zone', 'Seconds']\n",
    "\n",
    "# Plot bar chart\n",
    "fig = px.bar(zone_durations, \n",
    "             x='Zone', \n",
    "             y='Seconds',\n",
    "             labels={'Seconds': 'Total Time (seconds)', 'Zone': 'Heart Rate Zone'},\n",
    "             title=f'Time Spent in Heart Rate Zones Across {len(df[\"datafile\"].unique())} Workouts',\n",
    "             color='Zone',\n",
    "             color_discrete_map={                            # Plotly's Discrete Colors: https://plotly.com/python/discrete-color/\n",
    "                 'Resting (<90 bpm)': '#d62728',             # D3 Coloblind: Red (increase visibility due to short height)\n",
    "                 'Lower-Intensity (90-106 bpm)': '#1f77b4',  # D3 Coloblind: Blue\n",
    "                 'Fat-Burning (106-126 bpm)': '#ff7f0e',     # D3 Coloblind: Orange\n",
    "                 'Aerobic/Cardio (126+ bpm)': '#2ca02c'      # D3 Coloblind: Green\n",
    "             })\n",
    "\n",
    "fig.update_layout(\n",
    "    xaxis_title=\"Heart Rate Zone\",\n",
    "    yaxis_title=\"Total Time (seconds)\",\n",
    "    showlegend=False,\n",
    ")\n",
    "\n",
    "fig.show()"
   ]
  },
  {
   "cell_type": "markdown",
   "id": "7cf1af8a-2e73-4ce5-a71f-f3135a7b900e",
   "metadata": {},
   "source": [
    "Hmm.\n",
    "\n",
    "This chart, while exactly what I had in mind, is surprisingly plain and wasn't as informative as I originally thought it would. But let's see what information we can derive from this histogram before creating a more informative chart.\n",
    "\n",
    "We can tell from this chart that, throughout July-October, Professor Brooks spent the most time in the Aerobic/Cardio Zone (approx. 58.728k seconds = 16.313 hours). Next comes the Fat-Burning Zone, in which the professor spent approximately 41.256k (11.46 hrs).\n",
    "- Aerobic/cardio exercise is great for improving cardiovascular health; it strengthens ones heart and lungs, improving their efficiency in pumping blood and delivering oxygen [https://www.healthline.com/health/cardio-everyday#about-cardio]. The aerobic/cardio zone also burns more calories overall in a shorter amount of time compared to the fat-burning zone, even though a smaller percentage of calories comes from fat\n",
    "[https://www.webmd.com/fitness-exercise/what-to-know-heart-rate-fat-burning-cardio].\n",
    "- On the other hand, the fat-burning zone is relatively straight-forward; this zone is effective for burning fat as fuel during the workout, especially if one can sustain the activity for longer durations.\n",
    "\n",
    "In summary, from the histogram, Professor Brooks spent the most time in the Aerobic/Cardio Zone (16.31 hours), far exceeding the Fat-Burning Zone (11.46 hours) from July to October. This suggests a cardio-focused routine, which is great for heart health and calorie burn—aligned with benefits like improved oxygen delivery and stamina. However, the Fat-Burning Zone’s lower total (11.46 hours) indicates less of an emphasis on sustained fat utilization, which could be key for weight loss goals [if that aligns with the professor's goals].\n",
    "\n",
    "### Suggestions from the Histogram\n",
    "\n",
    "If the professor is interested in maximizing cardio benefits, he could try adding interval training to increase endurance. Or, if he has weight loss goals, he could add a couple workout sessions weekly that focus on keeping his heart rate in the Fat-Burning Zone to balance his workouts out."
   ]
  },
  {
   "cell_type": "markdown",
   "id": "5de2c84e-41b9-4c5b-b5c1-075f82abe352",
   "metadata": {},
   "source": [
    "## A More Informative Graph?\n",
    "### Exploring Violin Plots\n",
    "\n",
    "Although the histogram helped us gain a better understanding of the distribution of his heart rate zones across his workouts, it still feels like something is missing.\n",
    "\n",
    "Perhaps seeing his heart rate distributions on a month-by-month basis would help us see how the professor has been focusing his workouts over the summer.\n",
    "\n",
    "In this sense, let us try creating a violin plot. It would be great if we could do a side-by-side comparison of the 4 months (i.e., July, August, September, and October), all using the same scale for comparison (i.e., faceted plots). To make things more informative, we can also try shading in the heart rate zones so that we can easily tell in which zones each distribution lie.\n"
   ]
  },
  {
   "cell_type": "code",
   "execution_count": null,
   "id": "4ca8b566-7150-4a82-a669-0f69e78d9899",
   "metadata": {},
   "outputs": [],
   "source": [
    "# Extract Month names for grouping\n",
    "df['month'] = df['timestamp'].dt.strftime('%B')             # Extract full month names\n",
    "\n",
    "# Defining the Order of Months (ensuring chronological order)\n",
    "month_order = ['July', 'August', 'September', 'October']\n",
    "\n",
    "# Set up a 1-row × 4-column Subplot\n",
    "fig, axes = plt.subplots(1, 4, figsize=(20, 6), sharey=True)\n",
    "\n",
    "# Define HR Zones & Colors\n",
    "zones = [\n",
    "    (None, 90, \"Resting\", \"lightblue\"),\n",
    "    (90, 106, \"Lower-Intensity\", \"lightgreen\"),\n",
    "    (106, 126, \"Fat-Burning\", \"khaki\"),\n",
    "    (126, None, \"Aerobic/Cardio\", \"lightcoral\"),\n",
    "]\n",
    "\n",
    "# Loop through each month, creating a violin plot with shaded HR zones\n",
    "for i, month in enumerate(month_order):\n",
    "    ax = axes[i]\n",
    "    month_data = df[df['month'] == month]                  # Filter data for the current month\n",
    "\n",
    "    # Shade-in heart rate zones\n",
    "    for lower, upper, label, color in zones:\n",
    "        ax.axhspan(lower if lower else df['heart_rate'].min(),\n",
    "                   upper if upper else df['heart_rate'].max(),\n",
    "                   color=color, alpha=0.4, label=label if i == 0 else \"\")\n",
    "\n",
    "    # Create Violin Plots\n",
    "    sns.violinplot(data=month_data, x='month', y='heart_rate', ax=ax, \n",
    "                   inner='quartile', palette='colorblind', linewidth=1.2)\n",
    "\n",
    "    # Plot Titles\n",
    "    ax.set_title(f\"Heart Rate Distribution in {month}\", fontsize=14, fontweight='bold')\n",
    "    ax.set_xlabel(\"\")                                      # Remove x-axis label\n",
    "    ax.set_ylabel(\"Heart Rate (bpm)\" if i == 0 else \"\")    # Only 1 label for y-axis on first plot needed\n",
    "\n",
    "# Adding a Legend (only needed for the first subplot)\n",
    "handles, labels = axes[0].get_legend_handles_labels()\n",
    "\n",
    "# Tweaking Legend Features\n",
    "fig.legend(handles, labels, loc=\"upper center\", \n",
    "           bbox_to_anchor=(0.5, 1.04),                     # Position legend above the plots\n",
    "           title=\"Heart Rate Zones\", fontsize=12, ncol=4)  # Use 4 columns for horizontal layout\n",
    "\n",
    "# Add Chart Title\n",
    "plt.suptitle(\"Monthly Heart Rate Distributions (July–October 2019)\", fontsize=20, fontweight='bold', y=1.1)\n",
    "plt.tight_layout()\n",
    "plt.show()\n"
   ]
  },
  {
   "cell_type": "markdown",
   "id": "842c7fc6-3f5c-47af-a38a-ec9fc8291ac2",
   "metadata": {},
   "source": [
    "This is a great start! I did have to play around with moving the legend and title around to make sure nothing was covered, but this is definitely on the right track. However, since all our previous plots were generated using `Plotly`, it was strange having a static chart that had no interactivity (e.g., hovertext, zoom). In this sense, it would be nice to have a `Plotly` version of the violin plots for more native interactivity capabilities."
   ]
  },
  {
   "cell_type": "code",
   "execution_count": null,
   "id": "a0917434-06f4-42e8-b945-4bef9b23d3eb",
   "metadata": {},
   "outputs": [],
   "source": [
    "# Extract Full Month Names\n",
    "df['month'] = df['timestamp'].dt.strftime('%B')\n",
    "\n",
    "# Define Months in Order\n",
    "month_order = ['July', 'August', 'September', 'October']\n",
    "\n",
    "# Create Figure\n",
    "fig = go.Figure()\n",
    "\n",
    "# Loop each month to generate a violin plot for each\n",
    "for i, month in enumerate(month_order):\n",
    "    month_data = df[df['month'] == month]\n",
    "    fig.add_trace(go.Violin(\n",
    "        x=[i] * len(month_data),\n",
    "        y=month_data['heart_rate'],\n",
    "        name=month,       # Still name it for clarity, but won't show in legend\n",
    "        line_color='steelblue',\n",
    "        box_visible=True,\n",
    "        meanline_visible=True,\n",
    "        showlegend=False  # Hide from legend\n",
    "    ))\n",
    "\n",
    "# Define HR Zones & Colors\n",
    "zones = [\n",
    "    (0, 90, \"Resting\", \"cornflowerblue\"),\n",
    "    (90, 106, \"Lower-Intensity\", \"green\"),\n",
    "    (106, 126, \"Fat-Burning\", \"gold\"),\n",
    "    (126, 180, \"Aerobic/Cardio\", \"red\"),\n",
    "]\n",
    "\n",
    "# Add Shaded HR Zones\n",
    "for lower, upper, label, color in zones:\n",
    "    fig.add_hrect(\n",
    "        y0=lower, y1=upper,\n",
    "        fillcolor=color, opacity=0.2, layer=\"below\", line_width=0\n",
    "    )\n",
    "\n",
    "# Add Dummy Traces for Legend (so that only HR Zones show)\n",
    "for lower, upper, label, color in zones:\n",
    "    fig.add_trace(go.Scatter(\n",
    "        x=[None], y=[None], mode='markers',\n",
    "        marker=dict(color=color, opacity=0.4, size=15),\n",
    "        name=label,\n",
    "        showlegend=True  # Show only zones in legend\n",
    "    ))\n",
    "\n",
    "# Update layout\n",
    "fig.update_layout(\n",
    "    title=dict(\n",
    "        text=\"Monthly Heart Rate Distributions (July–October 2019)\",\n",
    "        font=dict(size=20),\n",
    "        y=0.95,\n",
    "        x=0.5,\n",
    "        xanchor=\"center\"\n",
    "    ),\n",
    "    xaxis=dict(\n",
    "        tickmode='array',\n",
    "        tickvals=[0, 1, 2, 3],\n",
    "        ticktext=month_order,\n",
    "        title=\"Month\"\n",
    "    ),\n",
    "    yaxis_title=\"Heart Rate (bpm)\",\n",
    "    yaxis_range=[0, 200],\n",
    "    plot_bgcolor='white',\n",
    "    paper_bgcolor='white',\n",
    "    legend=dict(\n",
    "        title=\"Heart Rate Zones\",\n",
    "        orientation=\"h\",\n",
    "        yanchor=\"top\",\n",
    "        y=1.1,\n",
    "        xanchor=\"center\",\n",
    "        x=0.5,\n",
    "        font=dict(size=12)\n",
    "    )\n",
    ")\n",
    "\n",
    "fig.show()"
   ]
  },
  {
   "cell_type": "markdown",
   "id": "f180e2f1-1cfe-49ab-bbdb-c3bfa744b1d8",
   "metadata": {},
   "source": [
    "I had to be clever about a few things (especially the legend!), but I am much happier with how this turned out on `Plotly` due to the library's native interactivity. Now onto the discussion!\n",
    "\n",
    "1. **July: Fat-Burning Dominance** (Max: 155, Q3: 124, Median: 117, Mean: 116, Q1: 109, Min: 56)\n",
    "    - July’s HR distribution is compact and centered in the Fat-Burning Zone, suggesting a consistent intensity level across recorded running or cycling sessions. The narrow spread (15 bpm between Q1 and Q3) indicates low variability. The max HR (155 bpm) dipping into the Aerobic/Cardio Zone suggests occasional bursts, possibly brief accelerations or inclines, but these are outliers in what appears to be a consistent demonstration of moderate-intensity exercise.\n",
    "\n",
    "\n",
    "2. **August: Aerobic/Cardio Dominance** (Max: 183, Q3: 157, Median: 145, Mean: 144, Q1: 135, Min: 69)\n",
    "    - August marked a clear shift to higher-intensity efforts in intense cardio. The wider Q1-to-Q3 spread and overall higher HRs suggest more variability, possibly mixing tough workouts with lower-intensity periods (min: 69 bpm). August is also one of the hottest months of the year. If we were to consider that a significant portion of these exercises took place outside (which we will begin to explore in [Part 3] of this project), then the additional heat-related stress could also be increasing the professor's overall HR. Outside of the heat, the aerobic/cardio dominance could also indicate a push in fitness level, a change in routine, or perhaps the presence of workouts that don't incorporate as much cooldown times.\n",
    "  \n",
    "\n",
    "3. **September: Aerobic/Cardio with Some Fat-Burning Mix** (mMx: 160, Q3: 141, Median: 134, Mean: 131, Q1:123, Min: 76)\n",
    "    - September continues with the aerobic/cardio focus but softens a bit; it is overall less extreme than August (lower max HR), with some moderate activity creeping in. This might suggest a balance between pushing cardio limits and sustained efforts at a lower HR, or a natural taper after August’s intensity [, perhaps due to the cooling weather].\n",
    "  \n",
    "\n",
    "4. **October: Aerobic/Cardio-Heavy (Limited Data)** (Max: 157, Q3: 143, Median: 140, Mean: 136, q1: 135, Min: 86)\n",
    "    - October’s single day (Oct. 3) leans hard into an intense, aerobic/cardio-centered workout. The tight distribution around 140 bpm suggests a focused, intense session. It's important to note that the sample size limits broader conclusion about the month of October.\n"
   ]
  },
  {
   "cell_type": "markdown",
   "id": "01ed20a3-b2a8-4865-8e26-f251e5116a43",
   "metadata": {},
   "source": [
    "## Last Remarks from Simple Graphs\n",
    "\n",
    "Professor Brooks, the 59 workouts we worked with weave a cohesive and exciting story across our three simple graphs, showcasing your summer 2019 fitness journey with clarity and depth.\n",
    "\n",
    "The line graph profiled what your typical workout sessions look like:\n",
    "- Warm-ups take around 20 minutes to ramp your heart rate to 140 bpm—a steady build.\n",
    "- Your peak heart rate (~150 bpm) hits between 20–30 minutes, showing a strong push.\n",
    "- Between 30–45 minutes, your heart rate eases to ~125 bpm, a controlled descent.\n",
    "- You catch a second wind at 45 minutes, steadily climbing until the end\n",
    "\n",
    "The scatter plot with linear OLS regression tracked your average HR rising from 120 to 145 bpm from July to October, signaling workouts growing in intensity over these months. The LOWESS trendline spiked mid-summer, peaking in August —- likely the summer heat amping up cardiac stress, pushing your average HR higher. This visual layered regression to spotlight that mid-summer intensity surge.\n",
    "\n",
    "The violin plots (upgraded from the simple histogram) deconstructed your heart rate distributions by month, revealing where your efforts landed across zones:\n",
    "- July’s exercises clustered in the fat-burning zone (106–126 bpm)\n",
    "- August shifted hard into the aerobic/cardio zone (126+ bpm); this is your peak effort month\n",
    "- September dialed back slightly but stayed mostly in the aerobic/cardio zone\n",
    "- October ramps up again, though with only one workout, monthly generalizations shouldn't be made"
   ]
  },
  {
   "cell_type": "markdown",
   "id": "03bea2c4-8d47-4813-b97e-bc8902e8ebfb",
   "metadata": {},
   "source": [
    "## Suggestions for Your Fitness Goals\n",
    "1. If you would like to focus on heart health:\n",
    "> We can see from the data that you’re already a cardio champ, especially in August! To keep boosting your cardiovascular endurance, you can continue to lean into those longer workout sessions (where your HR often hits 140+ bpm), sustaining 30–45 minutes in the aerobic/cardio zone (126–150 bpm). Your \"second wind pattern\" shows that you have late game stamina; knowing that can help you push through the plateau and back into your aerobic/cardio zone by around Minute 70.\n",
    "\n",
    "2. If you would like to focus on fat reduction:\n",
    "> July’s fat-burning focus (106–126 bpm) was spot-on! You could revisit that with more of the exercises that you completed during that month. Keeping your HR steady at 110–120 bpm would be crucial for this. You can mix in some August-style intensity (short cardio bursts) to keep things interesting, but prioritize duration in the fat-burning zone over the aerobic/cardio zone. The data shows you have great stamina in the aerobic/cardio zone (which is very difficult to do!), so keeping your HR steady with a lower intensity workout will likely be not too challenging for you."
   ]
  },
  {
   "cell_type": "code",
   "execution_count": null,
   "id": "9544c363-25ee-4251-85d4-3664d9a4f426",
   "metadata": {},
   "outputs": [],
   "source": []
  }
 ],
 "metadata": {
  "kernelspec": {
   "display_name": "Python 3.10 (ipykernel)",
   "language": "python",
   "name": "python3"
  },
  "language_info": {
   "codemirror_mode": {
    "name": "ipython",
    "version": 3
   },
   "file_extension": ".py",
   "mimetype": "text/x-python",
   "name": "python",
   "nbconvert_exporter": "python",
   "pygments_lexer": "ipython3",
   "version": "3.10.11"
  }
 },
 "nbformat": 4,
 "nbformat_minor": 5
}
